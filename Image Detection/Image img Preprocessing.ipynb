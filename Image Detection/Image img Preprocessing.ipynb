{
 "cells": [
  {
   "cell_type": "code",
   "execution_count": 1,
   "id": "96795aae",
   "metadata": {},
   "outputs": [],
   "source": [
    "import cv2\n",
    "import numpy as np\n",
    "import matplotlib.pyplot as plt"
   ]
  },
  {
   "cell_type": "code",
   "execution_count": 3,
   "id": "c8d0bb5e",
   "metadata": {},
   "outputs": [],
   "source": [
    "image = cv2.imread(r'C:\\Users\\Dell\\OneDrive\\Documents\\AI\\MACHINE LEARNING\\Himage.jpg')"
   ]
  },
  {
   "cell_type": "markdown",
   "id": "83c7f36a",
   "metadata": {},
   "source": [
    "# Color Imaging "
   ]
  },
  {
   "cell_type": "code",
   "execution_count": 11,
   "id": "53d0030f",
   "metadata": {},
   "outputs": [],
   "source": [
    "# gray imaging\n",
    "imgray = cv2.cvtColor(image, cv2.COLOR_BGR2GRAY)\n",
    "\n",
    "# HSV imaging\n",
    "imhsv = cv2.cvtColor(image, cv2.COLOR_BGR2HSV)\n",
    "\n",
    "# GaussianBlur\n",
    "imgblur = cv2.GaussianBlur(imgray,(3,5),5)"
   ]
  },
  {
   "cell_type": "code",
   "execution_count": null,
   "id": "d7dc643a",
   "metadata": {},
   "outputs": [],
   "source": []
  }
 ],
 "metadata": {
  "kernelspec": {
   "display_name": "Python 3 (ipykernel)",
   "language": "python",
   "name": "python3"
  },
  "language_info": {
   "codemirror_mode": {
    "name": "ipython",
    "version": 3
   },
   "file_extension": ".py",
   "mimetype": "text/x-python",
   "name": "python",
   "nbconvert_exporter": "python",
   "pygments_lexer": "ipython3",
   "version": "3.9.12"
  }
 },
 "nbformat": 4,
 "nbformat_minor": 5
}
