{
 "cells": [
  {
   "cell_type": "code",
   "execution_count": 1,
   "id": "e1746b77",
   "metadata": {},
   "outputs": [],
   "source": [
    "#importing libraries\n",
    "import cv2\n",
    "import numpy as np\n",
    "\n",
    "#for face\n",
    "face_cascade = cv2.CascadeClassifier(cv2.data.haarcascades + 'haarcascade_frontalface_default.xml')\n",
    "#for eyes\n",
    "eye_cascade = face_cascade = cv2.CascadeClassifier(cv2.data.haarcascades + 'haarcascade_eye.xml')"
   ]
  },
  {
   "cell_type": "code",
   "execution_count": 2,
   "id": "22491c02",
   "metadata": {},
   "outputs": [],
   "source": [
    "#Reading file using cv2\n",
    "image = cv2.imread(r'C:\\Users\\Dell\\OneDrive\\Documents\\AI\\MACHINE LEARNING\\Himage.jpg')\n",
    "\n",
    "#Converting of image to blur,gray and hsv\n",
    "#Gray imaging \n",
    "imggray = cv2.cvtColor(image,cv2.COLOR_BGR2GRAY)\n",
    "\n",
    "# HSV imaging\n",
    "imghsv = cv2.cvtColor(image,cv2.COLOR_BGR2HSV)\n",
    "\n",
    "#Guassian Blur\n",
    "imgblur = cv2.GaussianBlur(imggray,(3,5),5)\n",
    "\n",
    "HSV =cv2.cvtColor(image, cv2.COLOR_BGR2HSV, cv2.COLOR_BGR2GRAY)"
   ]
  },
  {
   "cell_type": "code",
   "execution_count": 3,
   "id": "bcb0d788",
   "metadata": {},
   "outputs": [],
   "source": [
    "#MOPHOLOGY OR IMAGE SUBSTRACTION\n",
    "imgcanny = cv2.Canny(imgblur, 200,200)\n",
    "kennel = np.ones((5,5))\n",
    "imgdilate = cv2.dilate(imgcanny,kennel,iterations=1)\n",
    "imgthresholding = cv2.erode(imgdilate,kennel,iterations=2)"
   ]
  },
  {
   "cell_type": "code",
   "execution_count": 5,
   "id": "6c2aa653",
   "metadata": {},
   "outputs": [
    {
     "data": {
      "text/plain": [
       "-1"
      ]
     },
     "execution_count": 5,
     "metadata": {},
     "output_type": "execute_result"
    }
   ],
   "source": [
    "cv2.imshow('Image Canny', imgcanny)\n",
    "cv2.imshow('Image Dilate', imgdilate)\n",
    "cv2.imshow('Image Threshold(erode)', imgthresholding)\n",
    "cv2.imshow('Blur Image', imgblur)\n",
    "cv2.imshow('HSV Image', imghsv)\n",
    "cv2.imshow('Gray Image', imggray)\n",
    "cv2.imshow('Original', image)\n",
    "cv2.waitKey(30)"
   ]
  },
  {
   "cell_type": "code",
   "execution_count": null,
   "id": "3ef53d0c",
   "metadata": {},
   "outputs": [],
   "source": []
  }
 ],
 "metadata": {
  "kernelspec": {
   "display_name": "Python 3 (ipykernel)",
   "language": "python",
   "name": "python3"
  },
  "language_info": {
   "codemirror_mode": {
    "name": "ipython",
    "version": 3
   },
   "file_extension": ".py",
   "mimetype": "text/x-python",
   "name": "python",
   "nbconvert_exporter": "python",
   "pygments_lexer": "ipython3",
   "version": "3.9.12"
  }
 },
 "nbformat": 4,
 "nbformat_minor": 5
}
