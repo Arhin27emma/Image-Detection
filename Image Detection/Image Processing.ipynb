{
 "cells": [
  {
   "cell_type": "code",
   "execution_count": null,
   "id": "621a21f6",
   "metadata": {},
   "outputs": [],
   "source": [
    "import cv2\n",
    "import numpy as np \n",
    "import matplotlib.pyplot as plt \n",
    "\n",
    "face_cascade = cv2.CascadeClassifier(cv2.data.haarcascades + 'haarcascade_frontalface_default.xml')\n",
    "eye_cascade = cv2.CascadeClassifier(cv2.data.haarcascades + 'haarcascade_eye.xml')\n",
    "\n",
    "\n",
    "image = cv2.imread(r\"C:\\Users\\Dell\\OneDrive\\Documents\\AI\\MACHINE LEARNING\\Himage.jpg\")\n",
    "\n",
    "#Gray imaging \n",
    "imggray = cv2.cvtColor(image,cv2.COLOR_BGR2GRAY)\n",
    "\n",
    "# HSV imaging\n",
    "imghsv = cv2.cvtColor(image,cv2.COLOR_BGR2HSV)\n",
    "\n",
    "#Guassian Blur\n",
    "imgblur = cv2.GaussianBlur(imggray,(3,5),5)\n",
    "\n",
    "#Morphology or background subraction \n",
    "imgcanny = cv2.Canny(imgblur,200,200)\n",
    "kernel = np.ones((5,5))\n",
    "imgdial = cv2.dilate(imgcanny,kernel,iterations =2)\n",
    "imgthres = cv2.erode(imgdial,kernel,iterations = 1)\n",
    "\n",
    "#RGB\n",
    "hsv = cv2.cvtColor(image,cv2.COLOR_BGR2HSV,cv2.COLOR_BGR2GRAY)\n",
    "\n",
    "#output\n",
    "cv2.imshow(\"erade\", imgthres)\n",
    "cv2.imshow(\"blur\", imgblur)\n",
    "cv2.imshow(\"hsv\", hsv)\n",
    "cv2.imshow(\"gray\", imggray)\n",
    "cv2.imshow(\"output\", image)\n",
    "cv2.waitKey(0)"
   ]
  },
  {
   "cell_type": "code",
   "execution_count": null,
   "id": "1cb2df64",
   "metadata": {},
   "outputs": [],
   "source": []
  }
 ],
 "metadata": {
  "kernelspec": {
   "display_name": "Python 3 (ipykernel)",
   "language": "python",
   "name": "python3"
  },
  "language_info": {
   "codemirror_mode": {
    "name": "ipython",
    "version": 3
   },
   "file_extension": ".py",
   "mimetype": "text/x-python",
   "name": "python",
   "nbconvert_exporter": "python",
   "pygments_lexer": "ipython3",
   "version": "3.9.12"
  }
 },
 "nbformat": 4,
 "nbformat_minor": 5
}
